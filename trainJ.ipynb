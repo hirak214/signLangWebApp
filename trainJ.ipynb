{
 "cells": [
  {
   "cell_type": "code",
   "execution_count": null,
   "id": "f429e1b6",
   "metadata": {
    "pycharm": {
     "is_executing": true
    }
   },
   "outputs": [],
   "source": [
    "from sklearn.model_selection import train_test_split\n",
    "from tensorflow.keras.utils import to_categorical\n",
    "import numpy as np\n",
    "import csv\n",
    "import os\n",
    "\n",
    "# training\n",
    "from tensorflow.keras.models import Sequential\n",
    "from tensorflow.keras.layers import LSTM, Dense\n",
    "from tensorflow.keras.callbacks import TensorBoard\n"
   ]
  },
  {
   "cell_type": "code",
   "execution_count": null,
   "id": "ee197db5",
   "metadata": {},
   "outputs": [],
   "source": [
    "\n",
    "DATA_PATH = os.path.join('MP_Data')  # Path for exported data, numpy arrays\n",
    "\n",
    "\n",
    "#getting dataset values from csv\n",
    "with open('datalabels.csv', newline='') as f:\n",
    "    reader = csv.reader(f)\n",
    "    data = [row[0] for row in reader]\n",
    "\n",
    "\n",
    "actions = np.array(data)\n",
    "no_sequences = 30  # thirty videos worth of data\n",
    "sequence_length = 30  # each video is 30 frame in length\n",
    "\n",
    "label_map = {label:num for num, label in enumerate(actions)}\n",
    "print(label_map)\n"
   ]
  },
  {
   "cell_type": "code",
   "execution_count": null,
   "id": "191576a1",
   "metadata": {},
   "outputs": [],
   "source": [
    "\n",
    "sequences, labels = [], []  # x data, y data\n",
    "for action in actions:\n",
    "    for sequence in range(no_sequences):\n",
    "        window = []\n",
    "        for frame_num in range(sequence_length):\n",
    "            res = np.load(os.path.join(DATA_PATH, action, str(sequence), \"{}.npy\".format(frame_num)))\n",
    "            window.append(res)\n",
    "        sequences.append(window)\n",
    "        labels.append(label_map[action])\n",
    "\n",
    "x = np.array(sequences)\n",
    "print(x.shape)\n",
    "y = to_categorical(labels).astype(int)\n",
    "print(y)\n"
   ]
  },
  {
   "cell_type": "code",
   "execution_count": null,
   "id": "cf937bfc",
   "metadata": {},
   "outputs": [],
   "source": [
    "\n",
    "# creating training partitions\n",
    "x_train, x_test, y_train, y_test = train_test_split(x, y, test_size=0.05)\n",
    "print(x_train.shape, x_test.shape, y_train.shape, y_test.shape)"
   ]
  },
  {
   "cell_type": "code",
   "execution_count": null,
   "id": "99b47231",
   "metadata": {},
   "outputs": [],
   "source": [
    "\n",
    "# training\n",
    "\n",
    "log_dir = os.path.join('Logs')\n",
    "tb_callback = TensorBoard(log_dir=log_dir)\n",
    "\n",
    "model = Sequential() # instantiating the model\n",
    "model.add(LSTM(64, return_sequences=True, activation='relu', input_shape=(30, 1662)))\n",
    "model.add(LSTM(128, return_sequences=True, activation='relu'))\n",
    "model.add(LSTM(64, return_sequences=False, activation='relu'))\n",
    "model.add(Dense(64, activation='relu'))\n",
    "model.add(Dense(32, activation='relu'))\n",
    "model.add(Dense(actions.shape[0], activation='softmax'))\n",
    "\n",
    "model.compile(optimizer='Adam', loss='categorical_crossentropy', metrics=['categorical_accuracy'])\n",
    "model.fit(x_train, y_train, epochs=2000, callbacks=[tb_callback])\n",
    "\n",
    "print(model.summary())\n",
    "\n",
    "res = model.predict(x_test)\n",
    "print(actions[np.argmax(res[0])])\n",
    "print(actions[np.argmax(res[9])])\n",
    "\n",
    "# save weights\n",
    "model.save('action.h5')\n",
    "\n",
    "\n",
    "#evaluation using confusion matrix\n",
    "from sklearn.metrics import multilabel_confusion_matrix, accuracy_score\n",
    "\n",
    "yhat = model.predict(y_test).tolist()\n",
    "ytrue = np.argmax(y_test).tolist()\n",
    "yhat = np.argmax(yhat).tolist()\n",
    "matrix = multilabel_confusion_matrix(ytrue, yhat)\n",
    "print(matrix)\n",
    "accuracy_score = accuracy_score(ytrue, yhat)\n",
    "print(f\"{accuracy_score= }\")\n"
   ]
  }
 ],
 "metadata": {
  "kernelspec": {
   "display_name": "venv",
   "language": "python",
   "name": "venv"
  },
  "language_info": {
   "codemirror_mode": {
    "name": "ipython",
    "version": 3
   },
   "file_extension": ".py",
   "mimetype": "text/x-python",
   "name": "python",
   "nbconvert_exporter": "python",
   "pygments_lexer": "ipython3",
   "version": "3.9.13"
  }
 },
 "nbformat": 4,
 "nbformat_minor": 5
}
